{
 "cells": [
  {
   "cell_type": "code",
   "execution_count": null,
   "metadata": {
    "pycharm": {
     "is_executing": true,
     "name": "#%%\n"
    }
   },
   "outputs": [],
   "source": [
    "from rdflib_neo4j import Neo4jStoreConfig\n",
    "from rdflib_neo4j import HANDLE_VOCAB_URI_STRATEGY"
   ]
  },
  {
   "cell_type": "code",
   "execution_count": null,
   "metadata": {
    "collapsed": false,
    "pycharm": {
     "is_executing": true,
     "name": "#%%\n"
    }
   },
   "outputs": [],
   "source": [
    "# Get your Aura Db free instance here: https://neo4j.com/cloud/aura-free/#test-drive-section\n",
    "AURA_DB_URI=\"your_db_uri\"\n",
    "AURA_DB_USERNAME=\"neo4j\"\n",
    "AURA_DB_PWD=\"your_db_pwd\"\n",
    "\n",
    "auth_data = {'uri': AURA_DB_URI,\n",
    "             'database': \"neo4j\",\n",
    "             'user': AURA_DB_USERNAME,\n",
    "             'pwd': AURA_DB_PWD}"
   ]
  },
  {
   "cell_type": "code",
   "execution_count": null,
   "metadata": {
    "collapsed": false,
    "pycharm": {
     "name": "#%%\n"
    }
   },
   "outputs": [],
   "source": [
    "from rdflib import Namespace\n",
    "\n",
    "# Define your prefixes\n",
    "prefixes = {\n",
    "    'neo4ind': Namespace('http://neo4j.org/ind#'),\n",
    "    'neo4voc': Namespace('http://neo4j.org/vocab/sw#'),\n",
    "    'nsmntx': Namespace('http://neo4j.org/vocab/NSMNTX#'),\n",
    "    'apoc': Namespace('http://neo4j.org/vocab/APOC#'),\n",
    "    'graphql': Namespace('http://neo4j.org/vocab/GraphQL#')\n",
    "}"
   ]
  },
  {
   "cell_type": "code",
   "execution_count": null,
   "metadata": {
    "collapsed": false,
    "pycharm": {
     "name": "#%%\n"
    }
   },
   "outputs": [],
   "source": [
    "# Define your custom mappings\n",
    "config = Neo4jStoreConfig(auth_data=auth_data,\n",
    "                          custom_prefixes=prefixes,\n",
    "                          handle_vocab_uri_strategy=HANDLE_VOCAB_URI_STRATEGY.IGNORE,\n",
    "                          batching=True)"
   ]
  },
  {
   "cell_type": "code",
   "execution_count": null,
   "metadata": {
    "collapsed": false,
    "pycharm": {
     "name": "#%%\n"
    }
   },
   "outputs": [],
   "source": [
    "from rdflib_neo4j import Neo4jStore\n",
    "from rdflib import Graph\n",
    "file_path = 'https://raw.githubusercontent.com/neo4j-labs/neosemantics/3.5/docs/rdf/nsmntx.ttl'\n",
    "\n",
    "graph_store = Graph(store=Neo4jStore(config=config))\n",
    "graph_store.parse(file_path,format=\"ttl\")\n",
    "graph_store.close(True)"
   ]
  }
 ],
 "metadata": {
  "kernelspec": {
   "display_name": "Python 3 (ipykernel)",
   "language": "python",
   "name": "python3"
  },
  "language_info": {
   "codemirror_mode": {
    "name": "ipython",
    "version": 3
   },
   "file_extension": ".py",
   "mimetype": "text/x-python",
   "name": "python",
   "nbconvert_exporter": "python",
   "pygments_lexer": "ipython3",
   "version": "3.8.9"
  }
 },
 "nbformat": 4,
 "nbformat_minor": 4
}
