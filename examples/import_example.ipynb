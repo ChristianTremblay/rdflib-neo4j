{
 "cells": [
  {
   "cell_type": "code",
   "execution_count": 1,
   "metadata": {
    "pycharm": {
     "is_executing": true,
     "name": "#%%\n"
    }
   },
   "outputs": [],
   "source": [
    "from rdflib_neo4j.config.Neo4jStoreConfig import Neo4jStoreConfig\n",
    "from rdflib_neo4j.config.const import HANDLE_VOCAB_URI_STRATEGY"
   ]
  },
  {
   "cell_type": "code",
   "execution_count": 12,
   "metadata": {
    "collapsed": false,
    "jupyter": {
     "outputs_hidden": false
    },
    "pycharm": {
     "is_executing": true,
     "name": "#%%\n"
    }
   },
   "outputs": [],
   "source": [
    "AURA_DB_URI = \"bolt://2600118c.databases.neo4j.io:7687\"\n",
    "AURA_DB_USERNAME = \"neo4j\"\n",
    "AURA_DB_PWD = \"eLxLnQYD_LuSPr-S8PFrpJeahI4DT__IJGRu6pkTZmk\"\n",
    "auth_data = {'uri': AURA_DB_URI,\n",
    "             'database': \"neo4j\",\n",
    "             'user': AURA_DB_USERNAME,\n",
    "             'pwd': AURA_DB_PWD}"
   ]
  },
  {
   "cell_type": "code",
   "execution_count": 13,
   "metadata": {
    "collapsed": false,
    "jupyter": {
     "outputs_hidden": false
    },
    "pycharm": {
     "name": "#%%\n"
    }
   },
   "outputs": [],
   "source": [
    "from rdflib import Namespace\n",
    "\n",
    "# Define your prefixes\n",
    "prefixes = {\n",
    "    'neo4voc': Namespace('http://neo4j.org/vocab/sw#')\n",
    "}"
   ]
  },
  {
   "cell_type": "code",
   "execution_count": null,
   "outputs": [],
   "source": [
    "# Define your custom mappings\n",
    "config = Neo4jStoreConfig(auth_data=auth_data,\n",
    "                            custom_prefixes=prefixes,\n",
    "                            handle_vocab_uri_strategy=HANDLE_VOCAB_URI_STRATEGY.IGNORE,\n",
    "                            batching=True\n",
    "                         )"
   ],
   "metadata": {
    "collapsed": false,
    "pycharm": {
     "name": "#%%\n"
    }
   }
  },
  {
   "cell_type": "code",
   "execution_count": null,
   "outputs": [],
   "source": [
    "from rdflib_neo4j.Neo4jStore import Neo4jStore\n",
    "from rdflib import Graph\n",
    "\n",
    "graph_store = Graph(store=Neo4jStore(config=config))\n",
    "graph_store.parse(\n",
    "    f\"http://192.236.179.169/sparql?default-graph-uri=http%3A%2F%2Fdata.15926.org%2Fcfihos&query=+%0D%0APREFIX+cfihos%3A+%3Chttp%3A%2F%2Fdata.15926.org%2Fcfihos%2F%3E%0D%0APREFIX+iso15629%3A+%3Chttp%3A%2F%2Fdata.15926.org%2Fdm%2F%3E%0D%0APREFIX+neo%3A+%3Cneo%3A%2F%2Fvoc%23%3E%0D%0ACONSTRUCT+%7B%0D%0A%3FsubClass+a+neo%3AClass+%3B+%0D%0A+++++++++++++neo%3Aname+%3FsubClassName+%3B%0D%0A+++++++++++++neo%3Atype+%3FsubClassType+%3B%0D%0A+++++++++++++neo%3Adefinition+%3FsubClassDefinition+%3B%0D%0A+++++++++++++neo%3AHAS_PARENT+%3Fclass+.%0D%0A%3Fclass++++a+neo%3AClass+.%0D%0A%7D%0D%0AWHERE+%7B+++%3FsubClass+rdfs%3AsubClassOf*+cfihos%3A33330002+%3B+%0D%0A+++++++++++++++rdfs%3AsubClassOf+%3Fclass+%3B%0D%0A+++++++++++++++rdfs%3Alabel+%3FsubClassName+%3B%0D%0A+++++++++++++++skos%3Adefinition+%3FsubClassDefinition+%3B%0D%0A+++++++++++++++rdf%3Atype+%3FsubClassType+.%0D%0A+++++++++++++++FILTER+regex%28str%28%3FsubClassType%29%2C+%22http%3A%2F%2Fdata.15926.org%2Fdm%22%29+%0D%0A%7D%0D%0A&format=text%2Fturtle&timeout=0&debug=on&run=+Run+Query+\",\n",
    "    format=\"ttl\")\n",
    "graph_store.close(True)"
   ],
   "metadata": {
    "collapsed": false,
    "pycharm": {
     "name": "#%%\n"
    }
   }
  },
  {
   "cell_type": "code",
   "execution_count": null,
   "outputs": [],
   "source": [],
   "metadata": {
    "collapsed": false,
    "pycharm": {
     "name": "#%%\n"
    }
   }
  },
  {
   "cell_type": "code",
   "execution_count": null,
   "metadata": {},
   "outputs": [],
   "source": []
  }
 ],
 "metadata": {
  "kernelspec": {
   "display_name": "Python 3 (ipykernel)",
   "language": "python",
   "name": "python3"
  },
  "language_info": {
   "codemirror_mode": {
    "name": "ipython",
    "version": 3
   },
   "file_extension": ".py",
   "mimetype": "text/x-python",
   "name": "python",
   "nbconvert_exporter": "python",
   "pygments_lexer": "ipython3",
   "version": "3.11.4"
  }
 },
 "nbformat": 4,
 "nbformat_minor": 4
}